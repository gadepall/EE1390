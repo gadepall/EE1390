{
  "nbformat": 4,
  "nbformat_minor": 0,
  "metadata": {
    "colab": {
      "name": "Curve fitting.ipynb",
      "provenance": []
    },
    "kernelspec": {
      "name": "python3",
      "display_name": "Python 3"
    }
  },
  "cells": [
    {
      "cell_type": "markdown",
      "metadata": {
        "id": "nlX6YRobEfya"
      },
      "source": [
        "# Curve Fitting "
      ]
    },
    {
      "cell_type": "code",
      "metadata": {
        "id": "1_u-Ngs-D2nh"
      },
      "source": [
        "import numpy as np\n",
        "import matplotlib.pyplot as plt"
      ],
      "execution_count": 95,
      "outputs": []
    },
    {
      "cell_type": "code",
      "metadata": {
        "id": "eSgYtCrbEhiU",
        "outputId": "fe64d45c-fe51-4478-ea93-0e02f70459f8",
        "colab": {
          "base_uri": "https://localhost:8080/",
          "height": 265
        }
      },
      "source": [
        "poly_order = 4\n",
        "# Number of training samples\n",
        "N = 30\n",
        "t = np.linspace(0, np.pi, N)\n",
        "f=1\n",
        "A=4\n",
        "# Generate some numbers from the sine function\n",
        "y = A*np.sin(2*f*t)\n",
        "# Add noise\n",
        "y += np.random.RandomState(1).uniform()\n",
        "#defining it as a matrix\n",
        "y_1 = np.asmatrix(y.reshape(N,1))\n",
        "plt.plot(t, y, 'o');\n",
        "plt.show()"
      ],
      "execution_count": 96,
      "outputs": [
        {
          "output_type": "display_data",
          "data": {
            "image/png": "[encoded data removed]",
            "text/plain": [
              "<Figure size 432x288 with 1 Axes>"
            ]
          },
          "metadata": {
            "tags": [],
            "needs_background": "light"
          }
        }
      ]
    },
    {
      "cell_type": "code",
      "metadata": {
        "id": "-760AM5LGBw7",
        "outputId": "a0c127b0-4723-4b81-a608-ce12198a51a9",
        "colab": {
          "base_uri": "https://localhost:8080/",
          "height": 35
        }
      },
      "source": [
        "# Numbers from the sine function\n",
        "y_1.shape"
      ],
      "execution_count": 97,
      "outputs": [
        {
          "output_type": "execute_result",
          "data": {
            "text/plain": [
              "(30, 1)"
            ]
          },
          "metadata": {
            "tags": []
          },
          "execution_count": 97
        }
      ]
    },
    {
      "cell_type": "markdown",
      "metadata": {
        "id": "WnxUItaLG5CU"
      },
      "source": [
        "# Adding the bias and higher order terms to t"
      ]
    },
    {
      "cell_type": "code",
      "metadata": {
        "id": "wVGbX0AgEldS",
        "outputId": "e5e4d8a5-8b4f-4978-bad7-5ea7196eb411",
        "colab": {
          "base_uri": "https://localhost:8080/",
          "height": 1000
        }
      },
      "source": [
        "B = np.append(np.ones((N,1)),t.reshape((N,1)),axis = 1)\n",
        "for i in range(0,poly_order-1):\n",
        "\tB = np.append(B,(t.reshape((N,1)))**(i+2),axis = 1)\n",
        "B = np.asmatrix(B)\n",
        "print(B.shape)\n",
        "print(B)"
      ],
      "execution_count": 98,
      "outputs": [
        {
          "output_type": "stream",
          "text": [
            "(30, 5)\n",
            "[[1.00000000e+00 0.00000000e+00 0.00000000e+00 0.00000000e+00\n",
            "  0.00000000e+00]\n",
            " [1.00000000e+00 1.08330781e-01 1.17355581e-02 1.27132218e-03\n",
            "  1.37723325e-04]\n",
            " [1.00000000e+00 2.16661562e-01 4.69422326e-02 1.01705775e-02\n",
            "  2.20357320e-03]\n",
            " [1.00000000e+00 3.24992343e-01 1.05620023e-01 3.43256989e-02\n",
            "  1.11555893e-02]\n",
            " [1.00000000e+00 4.33323125e-01 1.87768930e-01 8.13646196e-02\n",
            "  3.52571712e-02]\n",
            " [1.00000000e+00 5.41653906e-01 2.93388954e-01 1.58915273e-01\n",
            "  8.60770781e-02]\n",
            " [1.00000000e+00 6.49984687e-01 4.22480093e-01 2.74605591e-01\n",
            "  1.78489429e-01]\n",
            " [1.00000000e+00 7.58315468e-01 5.75042349e-01 4.36063508e-01\n",
            "  3.30673703e-01]\n",
            " [1.00000000e+00 8.66646249e-01 7.51075721e-01 6.50916957e-01\n",
            "  5.64114739e-01]\n",
            " [1.00000000e+00 9.74977030e-01 9.50580210e-01 9.26793870e-01\n",
            "  9.03602735e-01]\n",
            " [1.00000000e+00 1.08330781e+00 1.17355581e+00 1.27132218e+00\n",
            "  1.37723325e+00]\n",
            " [1.00000000e+00 1.19163859e+00 1.42000254e+00 1.69212982e+00\n",
            "  2.01640720e+00]\n",
            " [1.00000000e+00 1.29996937e+00 1.68992037e+00 2.19684473e+00\n",
            "  2.85583087e+00]\n",
            " [1.00000000e+00 1.40830016e+00 1.98330933e+00 2.79309483e+00\n",
            "  3.93351589e+00]\n",
            " [1.00000000e+00 1.51663094e+00 2.30016940e+00 3.48850807e+00\n",
            "  5.29077925e+00]\n",
            " [1.00000000e+00 1.62496172e+00 2.64050058e+00 4.29071236e+00\n",
            "  6.97224333e+00]\n",
            " [1.00000000e+00 1.73329250e+00 3.00430289e+00 5.20733565e+00\n",
            "  9.02583583e+00]\n",
            " [1.00000000e+00 1.84162328e+00 3.39157630e+00 6.24600588e+00\n",
            "  1.15027898e+01]\n",
            " [1.00000000e+00 1.94995406e+00 3.80232084e+00 7.41435096e+00\n",
            "  1.44576438e+01]\n",
            " [1.00000000e+00 2.05828484e+00 4.23653649e+00 8.71999884e+00\n",
            "  1.79482414e+01]\n",
            " [1.00000000e+00 2.16661562e+00 4.69422326e+00 1.01705775e+01\n",
            "  2.20357320e+01]\n",
            " [1.00000000e+00 2.27494640e+00 5.17538114e+00 1.17737147e+01\n",
            "  2.67845700e+01]\n",
            " [1.00000000e+00 2.38327719e+00 5.68001014e+00 1.35370386e+01\n",
            "  3.22625152e+01]\n",
            " [1.00000000e+00 2.49160797e+00 6.20811026e+00 1.54681770e+01\n",
            "  3.85406330e+01]\n",
            " [1.00000000e+00 2.59993875e+00 6.75968149e+00 1.75747578e+01\n",
            "  4.56932939e+01]\n",
            " [1.00000000e+00 2.70826953e+00 7.33472384e+00 1.98644091e+01\n",
            "  5.37981738e+01]\n",
            " [1.00000000e+00 2.81660031e+00 7.93323731e+00 2.23447587e+01\n",
            "  6.29362542e+01]\n",
            " [1.00000000e+00 2.92493109e+00 8.55522189e+00 2.50234345e+01\n",
            "  7.31918216e+01]\n",
            " [1.00000000e+00 3.03326187e+00 9.20067759e+00 2.79080645e+01\n",
            "  8.46524681e+01]\n",
            " [1.00000000e+00 3.14159265e+00 9.86960440e+00 3.10062767e+01\n",
            "  9.74090910e+01]]\n"
          ],
          "name": "stdout"
        }
      ]
    },
    {
      "cell_type": "markdown",
      "metadata": {
        "id": "TlF-ktBoH9DM"
      },
      "source": [
        "# Finding the optimum weights"
      ]
    },
    {
      "cell_type": "code",
      "metadata": {
        "id": "TCO8QJSsElsj",
        "outputId": "cffac65c-91e0-4dad-f268-e7a559e22e5b",
        "colab": {
          "base_uri": "https://localhost:8080/",
          "height": 106
        }
      },
      "source": [
        "w = (B.T*B).I*B.T*y_1\n",
        "print(w)"
      ],
      "execution_count": 99,
      "outputs": [
        {
          "output_type": "stream",
          "text": [
            "[[-1.50174641e-01]\n",
            " [ 1.45528314e+01]\n",
            " [-1.35521161e+01]\n",
            " [ 2.87584836e+00]\n",
            " [ 5.27510674e-12]]\n"
          ],
          "name": "stdout"
        }
      ]
    },
    {
      "cell_type": "markdown",
      "metadata": {
        "id": "YJ4gL3OwIGYh"
      },
      "source": [
        "## Error calculating Using Least Square Method Define the error associated to saying $y = w_{n}t + w_0$\n",
        "> $E(w_{0},w_{1})=\\sum_{n=1}^N (y_{n}-(w_{n}t+w))^2 $\n"
      ]
    },
    {
      "cell_type": "code",
      "metadata": {
        "id": "N32hL1UsE_cQ",
        "outputId": "f206c80a-34f7-4d98-e0ca-2dda92bee229",
        "colab": {
          "base_uri": "https://localhost:8080/",
          "height": 35
        }
      },
      "source": [
        "y_pred = B * w\n",
        "y_pred\n",
        "print(y_pred.shape)"
      ],
      "execution_count": 100,
      "outputs": [
        {
          "output_type": "stream",
          "text": [
            "(30, 1)\n"
          ],
          "name": "stdout"
        }
      ]
    },
    {
      "cell_type": "code",
      "metadata": {
        "id": "megCr1_wNsPR"
      },
      "source": [
        "def LSE_error(y_pred,y_1):\n",
        "  var = (y_1-y_pred)\n",
        "  n = len(var)\n",
        "  MSE= np.asmatrix(y_1-y_pred).T*np.asmatrix(y_1-y_pred)\n",
        "  MSE = (MSE/n)\n",
        "  return MSE"
      ],
      "execution_count": 101,
      "outputs": []
    },
    {
      "cell_type": "code",
      "metadata": {
        "id": "ZCtJ-T8BOU-E",
        "outputId": "5ca25dc4-4101-4312-c546-2608e7ce17fe",
        "colab": {
          "base_uri": "https://localhost:8080/",
          "height": 35
        }
      },
      "source": [
        "error1 = LSE_error(y_1,y_pred)\n",
        "print(error1)"
      ],
      "execution_count": 102,
      "outputs": [
        {
          "output_type": "stream",
          "text": [
            "[[0.08882154]]\n"
          ],
          "name": "stdout"
        }
      ]
    },
    {
      "cell_type": "markdown",
      "metadata": {
        "id": "Z1e-QifIIJ3J"
      },
      "source": [
        "# Ploting the curves"
      ]
    },
    {
      "cell_type": "code",
      "metadata": {
        "id": "WpNFZH7WE_iZ",
        "outputId": "0745ac72-d797-4b2a-98b8-a94ae5509d3b",
        "colab": {
          "base_uri": "https://localhost:8080/",
          "height": 281
        }
      },
      "source": [
        "plt.plot(t,y_1,'o',label = 'Original curve')\n",
        "plt.plot(t,y_pred,label = 'Fitted curve')\n",
        "plt.legend()\n",
        "plt.grid()\n",
        "plt.title(\"Polynomial Curve Fitting\")\n",
        "plt.show()"
      ],
      "execution_count": 103,
      "outputs": [
        {
          "output_type": "display_data",
          "data": {
            "image/png": "[encoded data removed]",
            "text/plain": [
              "<Figure size 432x288 with 1 Axes>"
            ]
          },
          "metadata": {
            "tags": [],
            "needs_background": "light"
          }
        }
      ]
    },
    {
      "cell_type": "code",
      "metadata": {
        "id": "1IvC-dHTE_YE"
      },
      "source": [
        ""
      ],
      "execution_count": 103,
      "outputs": []
    }
  ]
}